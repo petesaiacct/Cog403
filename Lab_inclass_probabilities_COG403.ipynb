{
 "cells": [
  {
   "cell_type": "markdown",
   "metadata": {},
   "source": [
    "## COG403 In-class Lab on Probabilities"
   ]
  },
  {
   "cell_type": "markdown",
   "metadata": {},
   "source": [
    "This lab serves as a preparatory exercise on probabilities. It is recommended that you attempt this lab in pairs or individually during the in-class lab time (about 40 minutes) after a brief presentation from the instructor/TA. You may consult the instructor/TA with clarification questions. \n",
    "\n",
    "Note that you are not obliged or expected to complete the lab within the in-class lab time---this is a self-paced lab for learning purposes (nor will you be assessed through this preparatory lab). "
   ]
  },
  {
   "cell_type": "markdown",
   "metadata": {},
   "source": [
    "### Marginal, conditional, and joint probabilities"
   ]
  },
  {
   "cell_type": "code",
   "execution_count": 23,
   "metadata": {
    "collapsed": true
   },
   "outputs": [],
   "source": [
    "import numpy as np \n",
    "import matplotlib.pyplot as plt\n",
    "import pandas as pd"
   ]
  },
  {
   "cell_type": "markdown",
   "metadata": {},
   "source": [
    "x and y that represent sequences of observation from two 6-sided dices."
   ]
  },
  {
   "cell_type": "code",
   "execution_count": 24,
   "metadata": {
    "collapsed": true
   },
   "outputs": [],
   "source": [
    "x = [4,2,5,5,6,2,4,3,2,1,5,1,3,2,6,1,2,6,1,4]\n",
    "y = [6,1,5,5,3,2,4,3,1,1,1,2,6,1,1,1,1,3,1,1]"
   ]
  },
  {
   "cell_type": "markdown",
   "metadata": {},
   "source": [
    "**Q1:** Calculate marginal probabilities p(x) and p(y) for the integer range 1 to 6. Consider visualizing these marginal probabilities in two separate histograms, for x and y.\n"
   ]
  },
  {
   "cell_type": "code",
   "execution_count": 31,
   "outputs": [],
   "source": [
    "# from collections import Counter\n",
    "\n",
    "# def marginal_probability(dice_rolls):\n",
    "#     roll_counts = Counter(dice_rolls)\n",
    "#     total_rolls = len(dice_rolls)\n",
    "#     marginal_probabilities = {roll: count/total_rolls for roll, count in roll_counts.items()}\n",
    "#     return marginal_probabilities\n",
    "#\n",
    "#\n",
    "# p_x = marginal_probability(x)\n",
    "# p_y = marginal_probability(y)\n",
    "\n",
    "def marginal_probabilities(x, y):\n",
    "    # Calculate the frequencies of each integer in the list x\n",
    "    x_frequencies = np.bincount(x)\n",
    "\n",
    "    # Calculate the total number of integers in the list x\n",
    "    x_total = len(x)\n",
    "\n",
    "    # Divide the frequencies by the total number of integers to get the marginal probabilities\n",
    "    px = x_frequencies / x_total\n",
    "\n",
    "    # Add the missing values for integers that don't appear in the list\n",
    "    #px = np.pad(px, (1, 6 - len(px)), mode='constant')\n",
    "    px = np.pad(px, (1, max(6 - len(px), 0)), mode='constant')\n",
    "\n",
    "\n",
    "    # Calculate the frequencies of each integer in the list y\n",
    "    y_frequencies = np.bincount(y)\n",
    "\n",
    "    # Calculate the total number of integers in the list y\n",
    "    y_total = len(y)\n",
    "\n",
    "    # Divide the frequencies by the total number of integers to get the marginal probabilities\n",
    "    py = y_frequencies / y_total\n",
    "\n",
    "    # Add the missing values for integers that don't appear in the list\n",
    "    #py = np.pad(py, (1, 6 - len(py)), mode='constant')\n",
    "    py = np.pad(py, (1, max(6 - len(py), 0)), mode='constant')\n",
    "\n",
    "    # px = px.reshape(-1,1)\n",
    "    # py = py.reshape(-1,1)\n",
    "    px = px[:6]\n",
    "    py = py[:6]\n",
    "\n",
    "    px = pd.DataFrame(px, columns=['p(x)'], index=range(1, 7))\n",
    "    py = pd.DataFrame(py, columns=['p(y)'], index=range(1, 7))\n",
    "\n",
    "    return px, py\n",
    "\n",
    "p_x, p_y = marginal_probabilities(x,y)\n"
   ],
   "metadata": {
    "collapsed": false
   }
  },
  {
   "cell_type": "markdown",
   "source": [],
   "metadata": {
    "collapsed": false
   }
  },
  {
   "cell_type": "code",
   "execution_count": 33,
   "outputs": [
    {
     "data": {
      "text/plain": "<Figure size 1000x500 with 2 Axes>",
      "image/png": "[encoded data removed]"
     },
     "metadata": {},
     "output_type": "display_data"
    }
   ],
   "source": [
    "# p_x = marginal_probability(x)\n",
    "#\n",
    "# # Create the bar chart\n",
    "# plt.bar(p_x.keys(), p_x.values())\n",
    "# plt.xlabel('Dice Roll')\n",
    "# plt.ylabel('Probability')\n",
    "# plt.title('Marginal Probabilities of Dice Rolls in x')\n",
    "#\n",
    "# p_y = marginal_probability(y)\n",
    "#\n",
    "# # Create the bar chart\n",
    "# plt.bar(p_y.keys(), p_y.values())\n",
    "# plt.xlabel('Dice Roll')\n",
    "# plt.ylabel('Probability')\n",
    "# plt.title('Marginal Probabilities of Dice Rolls in y')\n",
    "#\n",
    "# # Show the chart\n",
    "# plt.show()\n",
    "\n",
    "fig, axs = plt.subplots(1, 2, figsize=(10, 5))\n",
    "axs[0].bar(range(1,7), p_x[\"p(x)\"], align='center')\n",
    "axs[0].set_xlabel(\"x values\")\n",
    "axs[0].set_ylabel(\"p(x)\")\n",
    "axs[0].set_title(\"Marginal probability of x\")\n",
    "axs[1].bar(range(1,7), p_y[\"p(y)\"], align='center')\n",
    "axs[1].set_xlabel(\"y values\")\n",
    "axs[1].set_ylabel(\"p(y)\")\n",
    "axs[1].set_title(\"Marginal probability of y\")\n",
    "plt.show()\n"
   ],
   "metadata": {
    "collapsed": false
   }
  },
  {
   "cell_type": "code",
   "execution_count": null,
   "outputs": [],
   "source": [],
   "metadata": {
    "collapsed": false
   }
  },
  {
   "cell_type": "markdown",
   "metadata": {},
   "source": [
    "**Q2:** Calculate the following conditional probabilities: p(y=1|x=2), p(x=1|y=2)."
   ]
  },
  {
   "cell_type": "code",
   "execution_count": 13,
   "outputs": [
    {
     "name": "stdout",
     "output_type": "stream",
     "text": [
      "y value: 0.0 \n",
      "x value: 0.8\n"
     ]
    }
   ],
   "source": [
    "def conditional_probability(x_toss, y_toss, x_value, y_value):\n",
    "    x_count = x_rolls.count(x_value)\n",
    "    xy_count = sum([1 for i, j in zip(x_rolls, y_toss) if i == x_value and j == y_value])\n",
    "    return xy_count / x_count\n",
    "\n",
    "x_rolls = x\n",
    "y_rolls = y\n",
    "\n",
    "p_y1_given_x2 = conditional_probability(x_rolls, y_rolls, 2, 1)\n",
    "p_x1_given_y2 = conditional_probability(y_rolls, x_rolls, 2, 1)\n",
    "\n",
    "print(\"y value:\", p_x1_given_y2, \"\\nx value:\", p_y1_given_x2)\n"
   ],
   "metadata": {
    "collapsed": false
   }
  },
  {
   "cell_type": "markdown",
   "metadata": {},
   "source": [
    "**Q3:** Calculate the following joint probability: p(x=5,y=5)."
   ]
  },
  {
   "cell_type": "code",
   "execution_count": 14,
   "outputs": [
    {
     "name": "stdout",
     "output_type": "stream",
     "text": [
      "0.05\n"
     ]
    }
   ],
   "source": [
    "def joint_probability(x, y, event):\n",
    "    xy_pairs = list(zip(x, y))\n",
    "    event_count = xy_pairs.count(event)\n",
    "    total_count = len(x) + len(y)\n",
    "    return event_count / total_count\n",
    "\n",
    "p_x5_y5 = joint_probability(x, y, (5,5))\n",
    "print(p_x5_y5)"
   ],
   "metadata": {
    "collapsed": false
   }
  },
  {
   "cell_type": "markdown",
   "metadata": {},
   "source": [
    "**Q4:** Compute a 6-by-6 contingency table assuming that x and y are independent."
   ]
  },
  {
   "cell_type": "code",
   "execution_count": 21,
   "outputs": [
    {
     "ename": "TypeError",
     "evalue": "object of type 'PrettyTable' has no len()",
     "output_type": "error",
     "traceback": [
      "\u001B[0;31m---------------------------------------------------------------------------\u001B[0m",
      "\u001B[0;31mTypeError\u001B[0m                                 Traceback (most recent call last)",
      "Cell \u001B[0;32mIn [21], line 14\u001B[0m\n\u001B[1;32m      1\u001B[0m \u001B[38;5;66;03m### The first formulas just use python, the second is line comprehension. The final uses numpy and then pandas to make a display\u001B[39;00m\n\u001B[1;32m      2\u001B[0m \u001B[38;5;66;03m# x_marginal_prob = marginal_probability(x)\u001B[39;00m\n\u001B[1;32m      3\u001B[0m \u001B[38;5;66;03m# y_marginal_prob = marginal_probability(y)\u001B[39;00m\n\u001B[0;32m   (...)\u001B[0m\n\u001B[1;32m     11\u001B[0m \u001B[38;5;66;03m# # contingency_table = [[x_marginal_prob[i] * y_marginal_prob[j] for j in range(1, 7)] for i in range(1, 7)]\u001B[39;00m\n\u001B[1;32m     12\u001B[0m \u001B[38;5;66;03m# print(contingency_table)\u001B[39;00m\n\u001B[0;32m---> 14\u001B[0m x_marginal_prob \u001B[38;5;241m=\u001B[39m \u001B[43mmarginal_probability\u001B[49m\u001B[43m(\u001B[49m\u001B[43mx\u001B[49m\u001B[43m)\u001B[49m\n\u001B[1;32m     15\u001B[0m y_marginal_prob \u001B[38;5;241m=\u001B[39m marginal_probability(y)\n\u001B[1;32m     17\u001B[0m \u001B[38;5;66;03m# create an empty 6x6 array\u001B[39;00m\n",
      "Cell \u001B[0;32mIn [10], line 5\u001B[0m, in \u001B[0;36mmarginal_probability\u001B[0;34m(dice_rolls)\u001B[0m\n\u001B[1;32m      3\u001B[0m \u001B[38;5;28;01mdef\u001B[39;00m \u001B[38;5;21mmarginal_probability\u001B[39m(dice_rolls):\n\u001B[1;32m      4\u001B[0m     roll_counts \u001B[38;5;241m=\u001B[39m Counter(dice_rolls)\n\u001B[0;32m----> 5\u001B[0m     total_rolls \u001B[38;5;241m=\u001B[39m \u001B[38;5;28;43mlen\u001B[39;49m\u001B[43m(\u001B[49m\u001B[43mdice_rolls\u001B[49m\u001B[43m)\u001B[49m\n\u001B[1;32m      6\u001B[0m     marginal_probabilities \u001B[38;5;241m=\u001B[39m {roll: count\u001B[38;5;241m/\u001B[39mtotal_rolls \u001B[38;5;28;01mfor\u001B[39;00m roll, count \u001B[38;5;129;01min\u001B[39;00m roll_counts\u001B[38;5;241m.\u001B[39mitems()}\n\u001B[1;32m      7\u001B[0m     \u001B[38;5;28;01mreturn\u001B[39;00m marginal_probabilities\n",
      "\u001B[0;31mTypeError\u001B[0m: object of type 'PrettyTable' has no len()"
     ]
    }
   ],
   "source": [
    "### The first formulas just use python, the second is line comprehension. The final uses numpy and then pandas to make a display\n",
    "# x_marginal_prob = marginal_probability(x)\n",
    "# y_marginal_prob = marginal_probability(y)\n",
    "#\n",
    "# # Initialize a nested list to represent the contingency table\n",
    "# contingency_table = [[0 for _ in range(6)] for _ in range(6)]\n",
    "# for x_value in range(1, 7):\n",
    "#     for y_value in range(1, 7):\n",
    "#         contingency_table[x_value-1][y_value-1] = x_marginal_prob[x_value] * y_marginal_prob[y_value]\n",
    "#\n",
    "# # contingency_table = [[x_marginal_prob[i] * y_marginal_prob[j] for j in range(1, 7)] for i in range(1, 7)]\n",
    "# print(contingency_table)\n",
    "\n",
    "x_marginal_prob = marginal_probability(x)\n",
    "y_marginal_prob = marginal_probability(y)\n",
    "\n",
    "# create an empty 6x6 array\n",
    "contingency_table = np.empty((6, 6))\n",
    "\n",
    "for x_value in range(1, 7):\n",
    "    for y_value in range(1, 7):\n",
    "        contingency_table[x_value-1][y_value-1] = x_marginal_prob[x_value] * y_marginal_prob[y_value]\n",
    "\n",
    "contingency_table = pd.DataFrame(contingency_table, columns=range(1,7), index=range(1,7))\n",
    "print(contingency_table)\n",
    "\n",
    "from prettytable import PrettyTable\n",
    "\n",
    "x = PrettyTable()\n",
    "x.field_names = [i for i in range(1,7)]\n",
    "for i in range(6):\n",
    "    x.add_row(contingency_table[i])\n",
    "print(x)\n",
    "\n",
    "from tabulate import tabulate\n",
    "print(tabulate(contingency_table, headers='keys', tablefmt='fancy_grid'))"
   ],
   "metadata": {
    "collapsed": false
   }
  },
  {
   "cell_type": "markdown",
   "metadata": {},
   "source": [
    "**Q5:** (optional) Use chi-squared test to verify if x and y are independent."
   ]
  },
  {
   "cell_type": "code",
   "execution_count": null,
   "outputs": [],
   "source": [],
   "metadata": {
    "collapsed": false
   }
  }
 ],
 "metadata": {
  "kernelspec": {
   "display_name": "Python 3 (ipykernel)",
   "language": "python",
   "name": "python3"
  },
  "language_info": {
   "codemirror_mode": {
    "name": "ipython",
    "version": 3
   },
   "file_extension": ".py",
   "mimetype": "text/x-python",
   "name": "python",
   "nbconvert_exporter": "python",
   "pygments_lexer": "ipython3",
   "version": "3.9.12"
  }
 },
 "nbformat": 4,
 "nbformat_minor": 2
}
