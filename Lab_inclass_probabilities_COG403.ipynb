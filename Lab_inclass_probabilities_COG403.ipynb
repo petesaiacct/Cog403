{
 "cells": [
  {
   "cell_type": "markdown",
   "metadata": {},
   "source": [
    "## COG403 In-class Lab on Probabilities"
   ]
  },
  {
   "cell_type": "markdown",
   "metadata": {},
   "source": [
    "This lab serves as a preparatory exercise on probabilities. It is recommended that you attempt this lab in pairs or individually during the in-class lab time (about 40 minutes) after a brief presentation from the instructor/TA. You may consult the instructor/TA with clarification questions. \n",
    "\n",
    "Note that you are not obliged or expected to complete the lab within the in-class lab time---this is a self-paced lab for learning purposes (nor will you be assessed through this preparatory lab). "
   ]
  },
  {
   "cell_type": "markdown",
   "metadata": {},
   "source": [
    "### Marginal, conditional, and joint probabilities"
   ]
  },
  {
   "cell_type": "code",
   "execution_count": null,
   "metadata": {
    "collapsed": true
   },
   "outputs": [],
   "source": [
    "import numpy as np \n",
    "import matplotlib.pyplot as plt "
   ]
  },
  {
   "cell_type": "markdown",
   "metadata": {},
   "source": [
    "x and y that represent sequences of observation from two 6-sided dices."
   ]
  },
  {
   "cell_type": "code",
   "execution_count": null,
   "metadata": {
    "collapsed": true
   },
   "outputs": [],
   "source": [
    "x = [4,2,5,5,6,2,4,3,2,1,5,1,3,2,6,1,2,6,1,4];\n",
    "y = [6,1,5,5,3,2,4,3,1,1,1,2,6,1,1,1,1,3,1,1];"
   ]
  },
  {
   "cell_type": "markdown",
   "metadata": {},
   "source": [
    "**Q1:** Calculate marginal probabilities p(x) and p(y) for the integer range 1 to 6. Consider visualizing these marginal probabilities in two separate histograms, for x and y."
   ]
  },
  {
   "cell_type": "markdown",
   "metadata": {},
   "source": [
    "**Q2:** Calculate the following conditional probabilities: p(y=1|x=2), p(x=1|y=2)."
   ]
  },
  {
   "cell_type": "markdown",
   "metadata": {},
   "source": [
    "**Q3:** Calculate the following joint probability: p(x=5,y=5)."
   ]
  },
  {
   "cell_type": "markdown",
   "metadata": {},
   "source": [
    "**Q4:** Compute a 6-by-6 contingency table assuming that x and y are independent."
   ]
  },
  {
   "cell_type": "markdown",
   "metadata": {},
   "source": [
    "**Q5:** (optional) Use chi-squared test to verify if x and y are independent."
   ]
  }
 ],
 "metadata": {
  "kernelspec": {
   "display_name": "Python 3 (ipykernel)",
   "language": "python",
   "name": "python3"
  },
  "language_info": {
   "codemirror_mode": {
    "name": "ipython",
    "version": 3
   },
   "file_extension": ".py",
   "mimetype": "text/x-python",
   "name": "python",
   "nbconvert_exporter": "python",
   "pygments_lexer": "ipython3",
   "version": "3.9.12"
  }
 },
 "nbformat": 4,
 "nbformat_minor": 2
}
